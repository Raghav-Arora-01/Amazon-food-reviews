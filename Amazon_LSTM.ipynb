{
 "cells": [
  {
   "cell_type": "markdown",
   "metadata": {
    "colab_type": "text",
    "id": "fYU1SU5IVZ-k"
   },
   "source": [
    "# Task :Classification of Amazon-Reviews into two categories (Positive or Negative) Using LSTM"
   ]
  },
  {
   "cell_type": "code",
   "execution_count": 1,
   "metadata": {
    "colab": {
     "base_uri": "https://localhost:8080/",
     "height": 34
    },
    "colab_type": "code",
    "id": "ptU3SD5bsej6",
    "outputId": "0e7c460a-1892-41d3-a635-2e332c94bdc6"
   },
   "outputs": [
    {
     "name": "stderr",
     "output_type": "stream",
     "text": [
      "C:\\Users\\Gangadhar\\Anaconda3\\lib\\site-packages\\h5py\\__init__.py:36: FutureWarning: Conversion of the second argument of issubdtype from `float` to `np.floating` is deprecated. In future, it will be treated as `np.float64 == np.dtype(float).type`.\n",
      "  from ._conv import register_converters as _register_converters\n",
      "Using TensorFlow backend.\n"
     ]
    }
   ],
   "source": [
    "#importing required libraries\n",
    "import numpy as np\n",
    "import io\n",
    "import pandas as pd\n",
    "import matplotlib.pyplot as plt\n",
    "import seaborn as sns\n",
    "from keras.models import Sequential\n",
    "from keras.layers import Dense\n",
    "from keras.layers import LSTM\n",
    "from keras.layers import Dropout\n",
    "from keras.layers.embeddings import Embedding\n",
    "from keras.preprocessing import sequence"
   ]
  },
  {
   "cell_type": "code",
   "execution_count": 5,
   "metadata": {
    "colab": {
     "base_uri": "https://localhost:8080/",
     "height": 72,
     "resources": {
      "http://localhost:8080/nbextensions/google.colab/files.js": {
       "data": "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",
       "headers": [
        [
         "content-type",
         "application/javascript"
        ]
       ],
       "ok": true,
       "status": 200,
       "status_text": ""
      }
     }
    },
    "colab_type": "code",
    "id": "neccXVCy0ptV",
    "outputId": "2846dae2-a682-495f-e8eb-86670b9e9b28"
   },
   "outputs": [
    {
     "data": {
      "text/html": [
       "\n",
       "     <input type=\"file\" id=\"files-368c99c1-6c2e-44e1-b6e5-d498d0bf3503\" name=\"files[]\" multiple disabled />\n",
       "     <output id=\"result-368c99c1-6c2e-44e1-b6e5-d498d0bf3503\">\n",
       "      Upload widget is only available when the cell has been executed in the\n",
       "      current browser session. Please rerun this cell to enable.\n",
       "      </output>\n",
       "      <script src=\"/nbextensions/google.colab/files.js\"></script> "
      ],
      "text/plain": [
       "<IPython.core.display.HTML object>"
      ]
     },
     "metadata": {
      "tags": []
     },
     "output_type": "display_data"
    },
    {
     "name": "stdout",
     "output_type": "stream",
     "text": [
      "Saving amazon_reviews_final.csv to amazon_reviews_final.csv\n"
     ]
    }
   ],
   "source": [
    "#uploading the required data\n",
    "#from google.colab import files\n",
    "#uploaded = files.upload()"
   ]
  },
  {
   "cell_type": "code",
   "execution_count": 2,
   "metadata": {
    "colab": {},
    "colab_type": "code",
    "id": "cmYtacES8exX"
   },
   "outputs": [],
   "source": [
    "#importing data into pandas dataframe\n",
    "#df = pd.read_csv(io.StringIO(uploaded['amazon_reviews_final.csv'].decode('utf-8')))\n",
    "#df1 = df.head(50000)\n",
    "#importing required data into pandas dataframe\n",
    "df1 = pd.read_csv(\"amazon_reviews_final.csv\")"
   ]
  },
  {
   "cell_type": "code",
   "execution_count": 3,
   "metadata": {
    "colab": {},
    "colab_type": "code",
    "id": "nFgSDSnc68GO"
   },
   "outputs": [],
   "source": [
    "#sepearating text and polarity score\n",
    "reviews = df1.Text.values\n",
    "labels = df1.Score.values"
   ]
  },
  {
   "cell_type": "code",
   "execution_count": 4,
   "metadata": {
    "colab": {},
    "colab_type": "code",
    "id": "KtuzWA7Yn9cZ"
   },
   "outputs": [],
   "source": [
    "#taking first 70% data_points as training data and rest as test_data\n",
    "X_train = reviews[0:35000]\n",
    "X_test = reviews[35000:50000]\n",
    "y_train = labels[0:35000]\n",
    "y_test = labels[35000:50000]"
   ]
  },
  {
   "cell_type": "code",
   "execution_count": 5,
   "metadata": {
    "colab": {
     "base_uri": "https://localhost:8080/",
     "height": 34
    },
    "colab_type": "code",
    "id": "DEn4iCgEn1ML",
    "outputId": "83585438-c6e2-4cba-cf2a-a7cc7dab06f6"
   },
   "outputs": [
    {
     "name": "stdout",
     "output_type": "stream",
     "text": [
      "Vocabulary size for reviews: 23323\n"
     ]
    }
   ],
   "source": [
    "#checking the frequency of each word\n",
    "from collections import Counter\n",
    "\n",
    "freq_word = Counter()\n",
    "\n",
    "for row in X_train:\n",
    "    freq_word.update(row.split(\" \"))\n",
    "print(\"Vocabulary size for reviews:\", len(freq_word.keys()))\n"
   ]
  },
  {
   "cell_type": "code",
   "execution_count": 6,
   "metadata": {
    "colab": {},
    "colab_type": "code",
    "id": "UcE1XTFaftwT"
   },
   "outputs": [],
   "source": [
    "#getting the vocabulary\n",
    "vocabulary = list(freq_word.keys())\n",
    "#print(vocabulary)"
   ]
  },
  {
   "cell_type": "code",
   "execution_count": 7,
   "metadata": {
    "colab": {},
    "colab_type": "code",
    "id": "YXCXSJZjp4Ct"
   },
   "outputs": [],
   "source": [
    "#checking the frequencies of words in the vaocabulary\n",
    "#print(dict(freq_word))\n",
    "vocab_dict = dict(freq_word)"
   ]
  },
  {
   "cell_type": "code",
   "execution_count": 8,
   "metadata": {
    "colab": {
     "base_uri": "https://localhost:8080/",
     "height": 54
    },
    "colab_type": "code",
    "id": "6PNS6y7WrJNx",
    "outputId": "4a478828-f4a6-47f3-a6b9-5a6cd4a45bcc"
   },
   "outputs": [
    {
     "name": "stdout",
     "output_type": "stream",
     "text": [
      "['not', 'like', 'tast', 'product', 'good', 'flavor', 'use', 'love', 'great', 'veri', 'tri', 'coffe', 'get', 'make', 'tea', 'more', 'food', 'would', 'buy', 'time', 'order', 'realli', 'eat', 'price', 'dont', 'dog', 'much', 'amazon', 'bag', 'cup', 'well', 'littl', 'water', 'find', 'even', 'drink', 'im', 'best', 'ive', 'go', 'store', 'day', 'better', 'look', 'purchas', 'year', 'brand', 'mix', 'want', 'recommend', 'box', 'sugar', 'packag', 'first', 'give', 'work', 'made', 'sweet', 'bought', 'way', 'found', 'high', 'think', 'need', 'say', 'pack', 'treat', 'know', 'nice', 'differ', 'chocol', 'review', 'free', 'thing', 'cat', 'sinc', 'enjoy', 'delici', 'could', 'bit', 'lot', 'add', 'keep', 'favorit', 'bottl', 'perfect', 'mani', 'got', 'hot', 'come', 'never', 'still', 'sauc', 'cant', 'fresh', 'oil', 'everi', 'take', 'ingredi', 'ship']\n"
     ]
    }
   ],
   "source": [
    "#selecting top-5000 words\n",
    "#top_5000 = dict(Counter(vocab_dict).most_common(5000))\n",
    "#rannking each word based on their frequecy\n",
    "word_rank = {key: rank for rank, key in enumerate(sorted(vocab_dict, key=vocab_dict.get, reverse=True), 1)}\n",
    "#print(top_5000)\n",
    "#print(word_rank)\n",
    "vocab = list(word_rank.keys())\n",
    "top_5000 = vocab[0:5000]\n",
    "print(top_5000[0:100])"
   ]
  },
  {
   "cell_type": "code",
   "execution_count": 9,
   "metadata": {
    "colab": {},
    "colab_type": "code",
    "id": "sDYCW7PLzZJZ"
   },
   "outputs": [],
   "source": [
    "#changing text into integer values\n",
    "def reviews_to_integers(reviews):\n",
    "    reviews_to_int = []\n",
    "    for i in range(len(reviews)):\n",
    "      #for word in word_rank.keys():\n",
    "      to_int = [word_rank[word] for word in reviews[i].split() if word in top_5000]\n",
    "      reviews_to_int.append(to_int)\n",
    "    return reviews_to_int\n",
    "\n",
    "X_train_final = reviews_to_integers(X_train)"
   ]
  },
  {
   "cell_type": "code",
   "execution_count": 10,
   "metadata": {
    "colab": {
     "base_uri": "https://localhost:8080/",
     "height": 34
    },
    "colab_type": "code",
    "id": "ud_UHzi1BQRJ",
    "outputId": "0f419958-615a-4c8a-b5cb-c950be831146"
   },
   "outputs": [
    {
     "name": "stdout",
     "output_type": "stream",
     "text": [
      "[292, 57, 793, 3246, 2649, 16, 1568, 6, 2350, 81, 292, 22, 5, 1040, 129, 1152, 212]\n"
     ]
    }
   ],
   "source": [
    "#getting the review after chaniging into integer\n",
    "print(X_train_final[1])"
   ]
  },
  {
   "cell_type": "code",
   "execution_count": 11,
   "metadata": {
    "colab": {},
    "colab_type": "code",
    "id": "lPu0wu1zI7G_"
   },
   "outputs": [],
   "source": [
    "#spliting the text reviews into words\n",
    "def review_test(reviews):\n",
    "  review_split =[]\n",
    "  for i in range(len(reviews)):\n",
    "    words = reviews[i].split()\n",
    "    to_int = [word_rank[word] for word in words if word in top_5000]\n",
    "    review_split.append(to_int)\n",
    "  return review_split\n",
    " \n",
    "X_test_final = review_test(X_test)  "
   ]
  },
  {
   "cell_type": "code",
   "execution_count": 12,
   "metadata": {
    "colab": {
     "base_uri": "https://localhost:8080/",
     "height": 493
    },
    "colab_type": "code",
    "id": "RPwgk2yn-ns3",
    "outputId": "93679f65-2303-478d-f911-725fc18054fd"
   },
   "outputs": [
    {
     "data": {
      "text/plain": [
       "[421,\n",
       " 460,\n",
       " 1958,\n",
       " 63,\n",
       " 2,\n",
       " 35,\n",
       " 43,\n",
       " 86,\n",
       " 193,\n",
       " 431,\n",
       " 21,\n",
       " 205,\n",
       " 66,\n",
       " 150,\n",
       " 2,\n",
       " 6,\n",
       " 2208,\n",
       " 6,\n",
       " 236,\n",
       " 806,\n",
       " 80,\n",
       " 411,\n",
       " 3,\n",
       " 46,\n",
       " 1104,\n",
       " 1534,\n",
       " 197,\n",
       " 114]"
      ]
     },
     "execution_count": 12,
     "metadata": {},
     "output_type": "execute_result"
    }
   ],
   "source": [
    "#getting the review after changing into integer for test reviews\n",
    "X_test_final[1]"
   ]
  },
  {
   "cell_type": "code",
   "execution_count": 13,
   "metadata": {
    "colab": {
     "base_uri": "https://localhost:8080/",
     "height": 289
    },
    "colab_type": "code",
    "id": "i9hICiaBEKki",
    "outputId": "be66c73f-877e-4c2f-b116-3b90f7e1b62a"
   },
   "outputs": [
    {
     "name": "stdout",
     "output_type": "stream",
     "text": [
      "(35000, 200)\n",
      "[   0    0    0    0    0    0    0    0    0    0    0    0    0    0\n",
      "    0    0    0    0    0    0    0    0    0    0    0    0    0    0\n",
      "    0    0    0    0    0    0    0    0    0    0    0    0    0    0\n",
      "    0    0    0    0    0    0    0    0    0    0    0    0    0    0\n",
      "    0    0    0    0    0    0    0    0    0    0    0    0    0    0\n",
      "    0    0    0    0    0    0    0    0    0    0    0    0    0    0\n",
      "    0    0    0    0    0    0    0    0    0    0    0    0    0    0\n",
      "    0    0    0    0    0    0    0    0    0    0    0    0    0    0\n",
      "    0    0    0    0    0    0    0    0    0    0    0    0    0    0\n",
      "    0    0    0    0    0    0    0    0    0    0    0    0    0    0\n",
      "    0    0    0    0    0    0    0    0    0    0    0    0    0    0\n",
      "    0    0    0    0    0    0    0    0    0    0    0    0    0    0\n",
      "    0    0    0    0    0    0    0    0    0    0    0    0    0    0\n",
      "    0  292   57  793 3246 2649   16 1568    6 2350   81  292   22    5\n",
      " 1040  129 1152  212]\n"
     ]
    }
   ],
   "source": [
    "# truncate and/or pad input sequences\n",
    "max_review_length = 200\n",
    "X_train1 = sequence.pad_sequences(X_train_final, maxlen=max_review_length)\n",
    "X_test1 = sequence.pad_sequences(X_test_final, maxlen=max_review_length)\n",
    "\n",
    "print(X_train1.shape)\n",
    "print(X_train1[1])"
   ]
  },
  {
   "cell_type": "code",
   "execution_count": 14,
   "metadata": {
    "colab": {},
    "colab_type": "code",
    "id": "hOkoyqnRB1z9"
   },
   "outputs": [],
   "source": [
    "#lists for appending the results of each model\n",
    "train_loss_list =[];\n",
    "test_loss_list =[];\n",
    "train_accuracy_list =[];\n",
    "test_accuracy_list = []"
   ]
  },
  {
   "cell_type": "markdown",
   "metadata": {
    "colab_type": "text",
    "id": "WGGP-NpMMTwF"
   },
   "source": [
    "# LSTM For Sequence Classification With Dropout "
   ]
  },
  {
   "cell_type": "code",
   "execution_count": 22,
   "metadata": {
    "colab": {
     "base_uri": "https://localhost:8080/",
     "height": 612
    },
    "colab_type": "code",
    "id": "KgJBsLOiJ6oh",
    "outputId": "eae70c17-b2ba-44e2-a262-25dd9f5324e1"
   },
   "outputs": [
    {
     "name": "stdout",
     "output_type": "stream",
     "text": [
      "_________________________________________________________________\n",
      "Layer (type)                 Output Shape              Param #   \n",
      "=================================================================\n",
      "embedding_2 (Embedding)      (None, 200, 16)           80000     \n",
      "_________________________________________________________________\n",
      "lstm_2 (LSTM)                (None, 16)                2112      \n",
      "_________________________________________________________________\n",
      "dense_2 (Dense)              (None, 1)                 17        \n",
      "=================================================================\n",
      "Total params: 82,129\n",
      "Trainable params: 82,129\n",
      "Non-trainable params: 0\n",
      "_________________________________________________________________\n",
      "None\n",
      "Train on 35000 samples, validate on 15000 samples\n",
      "Epoch 1/10\n",
      "35000/35000 [==============================] - 152s 4ms/step - loss: 0.3882 - acc: 0.8462 - val_loss: 0.2662 - val_acc: 0.8925\n",
      "Epoch 2/10\n",
      "35000/35000 [==============================] - 150s 4ms/step - loss: 0.2281 - acc: 0.9114 - val_loss: 0.2459 - val_acc: 0.9022\n",
      "Epoch 3/10\n",
      "35000/35000 [==============================] - 151s 4ms/step - loss: 0.1986 - acc: 0.9238 - val_loss: 0.2315 - val_acc: 0.9078\n",
      "Epoch 4/10\n",
      "35000/35000 [==============================] - 150s 4ms/step - loss: 0.1792 - acc: 0.9305 - val_loss: 0.2349 - val_acc: 0.9085\n",
      "Epoch 5/10\n",
      "35000/35000 [==============================] - 151s 4ms/step - loss: 0.1701 - acc: 0.9350 - val_loss: 0.2414 - val_acc: 0.9087\n",
      "Epoch 6/10\n",
      "35000/35000 [==============================] - 150s 4ms/step - loss: 0.1593 - acc: 0.9388 - val_loss: 0.2393 - val_acc: 0.9063\n",
      "Epoch 7/10\n",
      "35000/35000 [==============================] - 150s 4ms/step - loss: 0.1514 - acc: 0.9421 - val_loss: 0.2434 - val_acc: 0.9062\n",
      "Epoch 8/10\n",
      "35000/35000 [==============================] - 150s 4ms/step - loss: 0.1467 - acc: 0.9449 - val_loss: 0.2494 - val_acc: 0.9048\n",
      "Epoch 9/10\n",
      "35000/35000 [==============================] - 150s 4ms/step - loss: 0.1389 - acc: 0.9482 - val_loss: 0.2535 - val_acc: 0.9052\n",
      "Epoch 10/10\n",
      "35000/35000 [==============================] - 149s 4ms/step - loss: 0.1340 - acc: 0.9506 - val_loss: 0.2536 - val_acc: 0.9027\n"
     ]
    }
   ],
   "source": [
    "# create the model\n",
    "embedding_vecor_length = 16\n",
    "model1 = Sequential()\n",
    "model1.add(Embedding(5000, embedding_vecor_length, input_length=max_review_length))\n",
    "model1.add(LSTM(16, dropout=0.2, recurrent_dropout=0.2))\n",
    "model1.add(Dense(1, activation='sigmoid'))\n",
    "model1.compile(loss='binary_crossentropy', optimizer='adam', metrics=['accuracy'])\n",
    "print(model1.summary())\n",
    "#training the model\n",
    "history1 = model1.fit(X_train1, y_train, batch_size=128,epochs=10,verbose=1,validation_data=(X_test1, y_test))"
   ]
  },
  {
   "cell_type": "code",
   "execution_count": 23,
   "metadata": {
    "colab": {
     "base_uri": "https://localhost:8080/",
     "height": 68
    },
    "colab_type": "code",
    "id": "bS_Xa1A8KRnQ",
    "outputId": "87ec99b4-25ee-4cd1-9d71-3118d45ec3d7"
   },
   "outputs": [
    {
     "name": "stdout",
     "output_type": "stream",
     "text": [
      "15000/15000 [==============================] - 59s 4ms/step\n",
      "35000/35000 [==============================] - 139s 4ms/step\n",
      "Evaluation result on Test Data : Loss = 0.2535703798850377, accuracy = 90.26666666666667%\n"
     ]
    }
   ],
   "source": [
    "##evaluating on test-data\n",
    "[test_loss1, test_acc1] = model1.evaluate(X_test1, y_test)\n",
    "[train_loss1, train_acc1] = model1.evaluate(X_train1, y_train)\n",
    "print(\"Evaluation result on Test Data : Loss = {}, accuracy = {}%\".format(test_loss1, test_acc1*100))\n",
    "train_loss_list.append(train_loss1)\n",
    "test_loss_list.append(test_loss1)\n",
    "train_accuracy_list.append(train_acc1)\n",
    "test_accuracy_list.append(test_acc1)"
   ]
  },
  {
   "cell_type": "code",
   "execution_count": 29,
   "metadata": {
    "colab": {
     "base_uri": "https://localhost:8080/",
     "height": 428
    },
    "colab_type": "code",
    "id": "KnfuIxk5KauC",
    "outputId": "c6969666-b89e-43a7-ed11-0ca1ed9d2f32"
   },
   "outputs": [
    {
     "data": {
      "text/plain": [
       "Text(0.5,1,'Accuracy Curves')"
      ]
     },
     "execution_count": 29,
     "metadata": {
      "tags": []
     },
     "output_type": "execute_result"
    },
    {
     "data": {
      "image/png": "[encoded data removed]",
      "text/plain": [
       "<matplotlib.figure.Figure at 0x7fddf5988be0>"
      ]
     },
     "metadata": {
      "tags": []
     },
     "output_type": "display_data"
    }
   ],
   "source": [
    "#Plot the Accuracy Curves\n",
    "plt.figure(figsize=[8,6])\n",
    "plt.plot(history1.history['acc'],'r',linewidth=3.0)\n",
    "plt.plot(history1.history['val_acc'],'b',linewidth=3.0)\n",
    "plt.legend(['Training Accuracy', 'Validation Accuracy'],fontsize=18)\n",
    "plt.xlabel('Epochs ',fontsize=16)\n",
    "plt.ylabel('Accuracy',fontsize=16)\n",
    "plt.title('Accuracy Curves',fontsize=16)\n"
   ]
  },
  {
   "cell_type": "markdown",
   "metadata": {
    "colab_type": "text",
    "id": "vftLRqf3NDLo"
   },
   "source": [
    "# Stacked LSTM for sequence classification with Dropout"
   ]
  },
  {
   "cell_type": "code",
   "execution_count": 24,
   "metadata": {
    "colab": {
     "base_uri": "https://localhost:8080/",
     "height": 680
    },
    "colab_type": "code",
    "id": "gLY2M1sgKeHN",
    "outputId": "0b693c33-dcad-44b6-af5e-9b1a5cbc1cb6"
   },
   "outputs": [
    {
     "name": "stdout",
     "output_type": "stream",
     "text": [
      "_________________________________________________________________\n",
      "Layer (type)                 Output Shape              Param #   \n",
      "=================================================================\n",
      "embedding_3 (Embedding)      (None, 200, 16)           80000     \n",
      "_________________________________________________________________\n",
      "lstm_3 (LSTM)                (None, 200, 100)          46800     \n",
      "_________________________________________________________________\n",
      "lstm_4 (LSTM)                (None, 100)               80400     \n",
      "_________________________________________________________________\n",
      "dropout_1 (Dropout)          (None, 100)               0         \n",
      "_________________________________________________________________\n",
      "dense_3 (Dense)              (None, 1)                 101       \n",
      "=================================================================\n",
      "Total params: 207,301\n",
      "Trainable params: 207,301\n",
      "Non-trainable params: 0\n",
      "_________________________________________________________________\n",
      "None\n",
      "Train on 35000 samples, validate on 15000 samples\n",
      "Epoch 1/10\n",
      "35000/35000 [==============================] - 261s 7ms/step - loss: 0.3287 - acc: 0.8698 - val_loss: 0.2254 - val_acc: 0.9084\n",
      "Epoch 2/10\n",
      "35000/35000 [==============================] - 259s 7ms/step - loss: 0.1904 - acc: 0.9249 - val_loss: 0.2239 - val_acc: 0.9126\n",
      "Epoch 3/10\n",
      "35000/35000 [==============================] - 258s 7ms/step - loss: 0.1713 - acc: 0.9345 - val_loss: 0.2207 - val_acc: 0.9121\n",
      "Epoch 4/10\n",
      "35000/35000 [==============================] - 258s 7ms/step - loss: 0.1587 - acc: 0.9400 - val_loss: 0.2347 - val_acc: 0.9117\n",
      "Epoch 5/10\n",
      "35000/35000 [==============================] - 259s 7ms/step - loss: 0.1472 - acc: 0.9444 - val_loss: 0.2395 - val_acc: 0.9108\n",
      "Epoch 6/10\n",
      "35000/35000 [==============================] - 258s 7ms/step - loss: 0.1499 - acc: 0.9424 - val_loss: 0.2516 - val_acc: 0.9091\n",
      "Epoch 7/10\n",
      "35000/35000 [==============================] - 258s 7ms/step - loss: 0.1360 - acc: 0.9495 - val_loss: 0.2484 - val_acc: 0.9070\n",
      "Epoch 8/10\n",
      "35000/35000 [==============================] - 258s 7ms/step - loss: 0.1226 - acc: 0.9557 - val_loss: 0.2596 - val_acc: 0.8999\n",
      "Epoch 9/10\n",
      "35000/35000 [==============================] - 256s 7ms/step - loss: 0.1066 - acc: 0.9623 - val_loss: 0.3013 - val_acc: 0.9071\n",
      "Epoch 10/10\n",
      "35000/35000 [==============================] - 257s 7ms/step - loss: 0.0935 - acc: 0.9679 - val_loss: 0.3134 - val_acc: 0.9047\n"
     ]
    }
   ],
   "source": [
    "# create the model\n",
    "embedding_vecor_length = 16\n",
    "model2 = Sequential()\n",
    "model2.add(Embedding(5000, embedding_vecor_length, input_length=max_review_length))\n",
    "model2.add(LSTM(100, return_sequences=True,input_shape=(n_timesteps,n_features)))\n",
    "model2.add(LSTM(100))\n",
    "model2.add(Dropout(0.5))\n",
    "model2.add(Dense(n_outputs, activation='sigmoid'))\n",
    "model2.compile(loss='binary_crossentropy', optimizer='adam', metrics=['accuracy'])\n",
    "print(model2.summary())\n",
    "#training the model\n",
    "history2 = model2.fit(X_train1, y_train, batch_size=128,epochs=10,verbose=1,validation_data=(X_test1, y_test))"
   ]
  },
  {
   "cell_type": "code",
   "execution_count": 25,
   "metadata": {
    "colab": {
     "base_uri": "https://localhost:8080/",
     "height": 68
    },
    "colab_type": "code",
    "id": "tXf4xn1BKxIg",
    "outputId": "cdde7031-1c5a-4e83-93e9-a713fde37097"
   },
   "outputs": [
    {
     "name": "stdout",
     "output_type": "stream",
     "text": [
      "15000/15000 [==============================] - 95s 6ms/step\n",
      "35000/35000 [==============================] - 221s 6ms/step\n",
      "Evaluation result on Test Data : Loss = 0.3133933385714889, accuracy = 90.46666666666667%\n"
     ]
    }
   ],
   "source": [
    "##evaluating on test-data\n",
    "[test_loss2, test_acc2] = model2.evaluate(X_test1, y_test)\n",
    "[train_loss2, train_acc2] = model2.evaluate(X_train1, y_train)\n",
    "print(\"Evaluation result on Test Data : Loss = {}, accuracy = {}%\".format(test_loss2, test_acc2*100))\n",
    "train_loss_list.append(train_loss2)\n",
    "test_loss_list.append(test_loss2)\n",
    "train_accuracy_list.append(train_acc2)\n",
    "test_accuracy_list.append(test_acc2)\n"
   ]
  },
  {
   "cell_type": "code",
   "execution_count": 26,
   "metadata": {
    "colab": {
     "base_uri": "https://localhost:8080/",
     "height": 428
    },
    "colab_type": "code",
    "id": "YgOSMF44WCvc",
    "outputId": "f6e684e3-4eaf-4703-9f0c-9724fc7ac042"
   },
   "outputs": [
    {
     "data": {
      "text/plain": [
       "Text(0.5,1,'Accuracy Curves')"
      ]
     },
     "execution_count": 26,
     "metadata": {
      "tags": []
     },
     "output_type": "execute_result"
    },
    {
     "data": {
      "image/png": "[encoded data removed]",
      "text/plain": [
       "<matplotlib.figure.Figure at 0x7fddf7330fd0>"
      ]
     },
     "metadata": {
      "tags": []
     },
     "output_type": "display_data"
    }
   ],
   "source": [
    "#Plot the Accuracy Curves\n",
    "plt.figure(figsize=[8,6])\n",
    "plt.plot(history2.history['acc'],'r',linewidth=3.0)\n",
    "plt.plot(history2.history['val_acc'],'b',linewidth=3.0)\n",
    "plt.legend(['Training Accuracy', 'Validation Accuracy'],fontsize=18)\n",
    "plt.xlabel('Epochs ',fontsize=16)\n",
    "plt.ylabel('Accuracy',fontsize=16)\n",
    "plt.title('Accuracy Curves',fontsize=16)\n"
   ]
  },
  {
   "cell_type": "markdown",
   "metadata": {
    "colab_type": "text",
    "id": "jEDldKA9MEsS"
   },
   "source": [
    "# Conclusions"
   ]
  },
  {
   "cell_type": "code",
   "execution_count": 27,
   "metadata": {
    "colab": {
     "base_uri": "https://localhost:8080/",
     "height": 34
    },
    "colab_type": "code",
    "id": "lrqEoi7zaqlR",
    "outputId": "beb2a474-65d1-41e5-afe8-458c7754c707"
   },
   "outputs": [
    {
     "name": "stdout",
     "output_type": "stream",
     "text": [
      "Requirement already satisfied: prettytable in /usr/local/lib/python3.6/dist-packages (0.7.2)\n"
     ]
    }
   ],
   "source": [
    "!pip install prettytable"
   ]
  },
  {
   "cell_type": "code",
   "execution_count": 28,
   "metadata": {
    "colab": {
     "base_uri": "https://localhost:8080/",
     "height": 731
    },
    "colab_type": "code",
    "id": "zjlqPG62FbGQ",
    "outputId": "4ebd0434-2e49-4f02-f025-9b10592439fd"
   },
   "outputs": [
    {
     "name": "stdout",
     "output_type": "stream",
     "text": [
      "+------------------+----------------+\n",
      "| metric/parameter |     result     |\n",
      "+------------------+----------------+\n",
      "|      Model       | Classification |\n",
      "|    Algorithm     |      LSTM      |\n",
      "|    Activation    |    sigmoid     |\n",
      "|    optimizer     |      Adam      |\n",
      "|     Padding      |      Yes       |\n",
      "|     Dropout      |      Yes       |\n",
      "|  Train-logloss   |      0.1       |\n",
      "|   Test-logloss   |      0.27      |\n",
      "|  Train-accuracy  |     96.64      |\n",
      "|  Test-accuracy   |     90.39      |\n",
      "+------------------+----------------+\n",
      "+------------------+----------------+\n",
      "| metric/parameter |     result     |\n",
      "+------------------+----------------+\n",
      "|      Model       | Classification |\n",
      "|    Algorithm     |      LSTM      |\n",
      "|    Activation    |    sigmoid     |\n",
      "|    optimizer     |      Adam      |\n",
      "|     Padding      |      Yes       |\n",
      "|     Dropout      |      Yes       |\n",
      "|  Train-logloss   |      0.11      |\n",
      "|   Test-logloss   |      0.25      |\n",
      "|  Train-accuracy  |     96.14      |\n",
      "|  Test-accuracy   |     90.27      |\n",
      "+------------------+----------------+\n",
      "+------------------+----------------+\n",
      "| metric/parameter |     result     |\n",
      "+------------------+----------------+\n",
      "|      Model       | Classification |\n",
      "|    Algorithm     |      LSTM      |\n",
      "|    Activation    |    sigmoid     |\n",
      "|    optimizer     |      Adam      |\n",
      "|     Padding      |      Yes       |\n",
      "|     Dropout      |      Yes       |\n",
      "|  Train-logloss   |      0.07      |\n",
      "|   Test-logloss   |      0.31      |\n",
      "|  Train-accuracy  |     97.91      |\n",
      "|  Test-accuracy   |     90.47      |\n",
      "+------------------+----------------+\n"
     ]
    }
   ],
   "source": [
    "#reporting the results in a table\n",
    "order_list = [0,1,2]\n",
    "\n",
    "from prettytable import PrettyTable\n",
    "for i in order_list:\n",
    "  t= PrettyTable()\n",
    "  t.field_names =[\"metric/parameter\" , \"result\"]\n",
    "  t.add_row ([\"Model\" ,\"Classification\"])\n",
    "  t.add_row([\"Algorithm\",\"LSTM\"])\n",
    "  t.add_row([\"Activation\",\"sigmoid\"])\n",
    "  t.add_row([\"optimizer\",\"Adam\"])\n",
    "  t.add_row([\"Padding\",\"Yes\"])\n",
    "  t.add_row([\"Dropout\",\"Yes\"])\n",
    "  t.add_row ([\"Train-logloss\" ,round(train_loss_list[i],2)])\n",
    "  t.add_row ([\"Test-logloss\" ,round(test_loss_list[i],2)])\n",
    "  t.add_row([\"Train-accuracy\",round(train_accuracy_list[i]*100,2)])\n",
    "  t.add_row([\"Test-accuracy\",round(test_accuracy_list[i]*100,2)])\n",
    "  print(t)\n",
    "    "
   ]
  },
  {
   "cell_type": "code",
   "execution_count": 0,
   "metadata": {
    "colab": {},
    "colab_type": "code",
    "id": "QcWYX7NH9GjG"
   },
   "outputs": [],
   "source": []
  }
 ],
 "metadata": {
  "accelerator": "GPU",
  "colab": {
   "collapsed_sections": [],
   "name": "Amazon_LSTM_AAIC.ipynb",
   "provenance": [],
   "version": "0.3.2"
  },
  "kernelspec": {
   "display_name": "Python 3",
   "language": "python",
   "name": "python3"
  },
  "language_info": {
   "codemirror_mode": {
    "name": "ipython",
    "version": 3
   },
   "file_extension": ".py",
   "mimetype": "text/x-python",
   "name": "python",
   "nbconvert_exporter": "python",
   "pygments_lexer": "ipython3",
   "version": "3.6.5"
  }
 },
 "nbformat": 4,
 "nbformat_minor": 1
}
